{
 "cells": [
  {
   "cell_type": "code",
   "execution_count": 1,
   "id": "154377db-814f-415f-988f-792aa224196d",
   "metadata": {},
   "outputs": [
    {
     "name": "stderr",
     "output_type": "stream",
     "text": [
      "C:\\Users\\ykond\\anaconda3\\lib\\site-packages\\tpot\\builtins\\__init__.py:36: UserWarning: Warning: optional dependency `torch` is not available. - skipping import of NN models.\n",
      "  warnings.warn(\"Warning: optional dependency `torch` is not available. - skipping import of NN models.\")\n"
     ]
    }
   ],
   "source": [
    "#Importing the libraries\n",
    "import numpy as np\n",
    "import pandas as pd\n",
    "import os\n",
    "import io\n",
    "import pdb\n",
    "import sklearn\n",
    "from sklearn.naive_bayes import MultinomialNB\n",
    "from sklearn.model_selection import train_test_split\n",
    "from sklearn.feature_extraction.text import CountVectorizer\n",
    "from sklearn import metrics\n",
    "from sklearn.feature_extraction.text import TfidfVectorizer\n",
    "from sklearn.linear_model import SGDClassifier\n",
    "from sklearn.tree import DecisionTreeClassifier\n",
    "from sklearn.ensemble import RandomForestClassifier\n",
    "from sklearn.neural_network import MLPClassifier\n",
    "from sklearn.ensemble import GradientBoostingClassifier\n",
    "from sklearn.ensemble import AdaBoostClassifier\n",
    "from sklearn.ensemble import BaggingClassifier\n",
    "from sklearn.ensemble import VotingClassifier\n",
    "from sklearn.model_selection import StratifiedKFold\n",
    "from sklearn import linear_model\n",
    "import pyswarms as ps\n",
    "from statistics import mean, stdev\n",
    "from sklearn.model_selection import cross_val_score\n",
    "from tpot import TPOTClassifier\n",
    "import matplotlib.pyplot as plt"
   ]
  },
  {
   "cell_type": "code",
   "execution_count": 2,
   "id": "cfb66091-2660-44af-9c4e-2621f3d63f2d",
   "metadata": {},
   "outputs": [],
   "source": [
    "#Machine learning models\n",
    "vectorizer=CountVectorizer(stop_words='english',lowercase=True)\n",
    "\n",
    "MNBC=MultinomialNB(alpha=0.5743650,class_prior=None,fit_prior=False)    #Multinomial Naive BAYES\n",
    "SGDC=SGDClassifier(loss=\"log_loss\", alpha=0.0001, max_iter=1000, tol=1e-3, epsilon=0.1)   #Stochastic Gradient Descent\n",
    "DTC=DecisionTreeClassifier(criterion = \"entropy\", splitter = \"best\")  #entropy can also be used  #Decision Tree\n",
    "RFC=RandomForestClassifier(criterion = \"entropy\")  #entropy must be used after gini    #Random Forest\n",
    "MLPC=MLPClassifier(hidden_layer_sizes=5,max_iter=10000,solver='lbfgs')  #Multi-layer Perceptron\n",
    "ABC=AdaBoostClassifier(n_estimators=100)          #AdaBoost Classifier\n",
    "GBC=GradientBoostingClassifier(n_estimators=100)        #GradientBoosting Classifier\n",
    "VCH=VotingClassifier([('MNBC',MNBC),('SGDC',SGDC),('DTC',DTC),('RFC',RFC),('MLPC',MLPC),('ABC',ABC),('GBC',GBC)],voting='hard')\n",
    "VCS=VotingClassifier([('MNBC',MNBC),('SGDC',SGDC),('DTC',DTC),('RFC',RFC),('MLPC',MLPC),('ABC',ABC),('GBC',GBC)],voting='soft')\n",
    "\n",
    "##Bagging Technique\n",
    "BMNBC=BaggingClassifier(MNBC)\n",
    "BSGDC=BaggingClassifier(SGDC)\n",
    "BDTC=BaggingClassifier(DTC)\n",
    "BRFC=BaggingClassifier(RFC)\n",
    "BMLPC=BaggingClassifier(MLPC)\n",
    "BGBC=BaggingClassifier(GBC)\n",
    "BABC=BaggingClassifier(ABC)\n",
    "\n",
    "\n",
    "skf=StratifiedKFold(n_splits=4,shuffle=True)\n",
    "models=[MNBC,SGDC,DTC,RFC,MLPC]\n",
    "split_list=[5,4,3,2]"
   ]
  },
  {
   "cell_type": "code",
   "execution_count": 4,
   "id": "c4cd3ab7-a3e7-4527-90e9-2ca56df089bf",
   "metadata": {},
   "outputs": [],
   "source": [
    "def readFiles(path):\n",
    "    for root, dirnames, filenames in os.walk(path):\n",
    "        for filename in filenames:\n",
    "            path=os.path.join(root, filename)\n",
    "            lines=[]\n",
    "            f=io.open(path, 'r', encoding='latin1')\n",
    "            for line in f:\n",
    "                lines.append(line)\n",
    "            f.close\n",
    "            message='\\n'.join(lines)\n",
    "            yield path, message\n",
    "\n",
    "def dataFrameFromDirectory(path, classification):\n",
    "    rows=[]\n",
    "    index=[]\n",
    "    for filename, message in readFiles(path):\n",
    "        rows.append({'message':message, 'class':classification})\n",
    "        index.append(filename)\n",
    "    return pd.DataFrame(rows, index=index)\n",
    "\n",
    "data=pd.DataFrame({'message':[], 'class':[]})\n",
    "\n",
    "data=data.append(dataFrameFromDirectory('D:/Major Project/App_Data_Set/Spam_Assassin_Dataset/Spam','Spam'))\n",
    "data=data.append(dataFrameFromDirectory('D:/Major Project/App_Data_Set/Spam_Assassin_Dataset/Ham','Ham'))\n",
    "X=data['message']\n",
    "y=data['class']\n",
    "\n",
    "\n",
    "'''Pre-processing'''\n",
    "IDF = TfidfVectorizer().fit_transform(X)\n",
    "Tr_tokens=vectorizer.fit_transform(X)\n",
    "\n",
    "\n",
    "scores=np.array"
   ]
  },
  {
   "cell_type": "code",
   "execution_count": 5,
   "id": "644f29e9-c1c1-4772-8b10-eaf2776ee5f6",
   "metadata": {},
   "outputs": [],
   "source": [
    "#Applying Stratified K_fold_Cross_Validation\n",
    "def SKF_Split(x):\n",
    "    skf=StratifiedKFold(n_splits=x,shuffle=True)\n",
    "    #Stratified K_Fold_spliting\n",
    "    for train_index, test_index in skf.split(Tr_tokens,y):\n",
    "        global X_train, X_test, y_train, y_test\n",
    "        X_train, X_test = Tr_tokens[train_index], Tr_tokens[test_index]\n",
    "        y_train, y_test = y[train_index], y[test_index]\n",
    "    return X_train, X_test, y_train, y_test"
   ]
  },
  {
   "cell_type": "code",
   "execution_count": 6,
   "id": "e53e83a1-1199-4b8b-8802-c8ee738bc29b",
   "metadata": {},
   "outputs": [],
   "source": [
    "def VotingHard_Classification():\n",
    "    print('VCH Training and testing is running')\n",
    "    SKF_Split(4)\n",
    "    VCH.fit(X_train, y_train)\n",
    "    pred=VCH.predict(X_test)\n",
    "    Training_Accuracy, Testing_Accuracy = VCH.score(X_train,y_train)*100, VCH.score(X_test,y_test)*100\n",
    "    return Testing_Accuracy, (metrics.precision_score(y_test,pred,pos_label='Spam')*100), (metrics.recall_score(y_test,pred,pos_label='Spam')*100), (metrics.f1_score(y_test, pred, pos_label='Spam')*100)"
   ]
  },
  {
   "cell_type": "code",
   "execution_count": 7,
   "id": "5334a9fb-1429-4e49-849e-01d647aede74",
   "metadata": {},
   "outputs": [],
   "source": [
    "def VotingSoft_Classification():\n",
    "    print('VCS Training and testing is running')\n",
    "    SKF_Split(4)\n",
    "    VCS.fit(X_train, y_train)\n",
    "    pred=VCS.predict(X_test)\n",
    "    Training_Accuracy, Testing_Accuracy = VCS.score(X_train,y_train)*100, VCS.score(X_test,y_test)*100\n",
    "    return Testing_Accuracy, (metrics.precision_score(y_test,pred,pos_label='Spam')*100), (metrics.recall_score(y_test,pred,pos_label='Spam')*100), (metrics.f1_score(y_test, pred, pos_label='Spam')*100)"
   ]
  },
  {
   "cell_type": "code",
   "execution_count": 8,
   "id": "8bb32d3b-2cd6-49fa-81fc-34cc91105648",
   "metadata": {},
   "outputs": [
    {
     "name": "stdout",
     "output_type": "stream",
     "text": [
      "VCH Training and testing is running\n",
      "VCS Training and testing is running\n"
     ]
    },
    {
     "data": {
      "image/png": "[encoded data removed]",
      "text/plain": [
       "<Figure size 432x288 with 1 Axes>"
      ]
     },
     "metadata": {
      "needs_background": "light"
     },
     "output_type": "display_data"
    },
    {
     "data": {
      "text/html": [
       "<div>\n",
       "<style scoped>\n",
       "    .dataframe tbody tr th:only-of-type {\n",
       "        vertical-align: middle;\n",
       "    }\n",
       "\n",
       "    .dataframe tbody tr th {\n",
       "        vertical-align: top;\n",
       "    }\n",
       "\n",
       "    .dataframe thead th {\n",
       "        text-align: right;\n",
       "    }\n",
       "</style>\n",
       "<table border=\"1\" class=\"dataframe\">\n",
       "  <thead>\n",
       "    <tr style=\"text-align: right;\">\n",
       "      <th></th>\n",
       "      <th>Classifier</th>\n",
       "      <th>Testing Accuracy</th>\n",
       "      <th>Precision Score</th>\n",
       "      <th>Recall Score</th>\n",
       "      <th>F1-Score</th>\n",
       "    </tr>\n",
       "  </thead>\n",
       "  <tbody>\n",
       "    <tr>\n",
       "      <th>0</th>\n",
       "      <td>Voting Classification Soft</td>\n",
       "      <td>99.832683</td>\n",
       "      <td>99.741602</td>\n",
       "      <td>99.677211</td>\n",
       "      <td>99.709396</td>\n",
       "    </tr>\n",
       "    <tr>\n",
       "      <th>1</th>\n",
       "      <td>Voting Classification Hard</td>\n",
       "      <td>99.944228</td>\n",
       "      <td>99.870968</td>\n",
       "      <td>99.935442</td>\n",
       "      <td>99.903195</td>\n",
       "    </tr>\n",
       "  </tbody>\n",
       "</table>\n",
       "</div>"
      ],
      "text/plain": [
       "                   Classifier  Testing Accuracy  Precision Score  \\\n",
       "0  Voting Classification Soft         99.832683        99.741602   \n",
       "1  Voting Classification Hard         99.944228        99.870968   \n",
       "\n",
       "   Recall Score   F1-Score  \n",
       "0     99.677211  99.709396  \n",
       "1     99.935442  99.903195  "
      ]
     },
     "execution_count": 8,
     "metadata": {},
     "output_type": "execute_result"
    }
   ],
   "source": [
    "def Main_VC():\n",
    "    \n",
    "    SKF_Split(4)\n",
    "    acc1=VotingHard_Classification()\n",
    "    acc2=VotingSoft_Classification()\n",
    "\n",
    "    \n",
    "        \n",
    "    Accuracy_Table=[('Voting Classification Soft',acc2[0],acc2[1],acc2[2],acc2[3]),\n",
    "                ('Voting Classification Hard',acc1[0],acc1[1],acc1[2],acc1[3]),\n",
    "               ]\n",
    "    Result_table=pd.DataFrame(Accuracy_Table,columns=[\"Classifier\",\"Testing Accuracy\",\"Precision Score\",\"Recall Score\",\"F1-Score\"])\n",
    "    \n",
    "    N = 4\n",
    "    ind = np.arange(N) \n",
    "    width = 0.12\n",
    "\n",
    "    VCH_vals = [acc1[0],acc1[1],acc1[2],acc1[3]]\n",
    "    bar1 = plt.bar(ind, VCH_vals, width, color = 'r')\n",
    "\n",
    "    VCS_vals = [acc2[0],acc2[1],acc2[2],acc2[3]]\n",
    "    bar2 = plt.bar(ind+width, VCS_vals, width, color='g')\n",
    "    \n",
    "        \n",
    "    plt.xlabel(\"Accuracy Fields\")\n",
    "    plt.ylabel(\"Accuracies\")\n",
    "    plt.title(\"Accuracies for 75-25 Split\")\n",
    "\n",
    "    plt.xticks(ind+width,['TA', 'PS', 'RS', 'F1-S'])\n",
    "    plt.legend( (bar1, bar2), ('VCH','VCS') )\n",
    "    plt.show()\n",
    "    \n",
    "    return Result_table\n",
    "Main_VC()"
   ]
  },
  {
   "cell_type": "code",
   "execution_count": null,
   "id": "df7a6c05-3842-453b-9828-4711f07cb143",
   "metadata": {},
   "outputs": [],
   "source": []
  },
  {
   "cell_type": "code",
   "execution_count": null,
   "id": "99bda735-c0d0-4ccd-bcfd-72b91e2de1da",
   "metadata": {},
   "outputs": [],
   "source": []
  }
 ],
 "metadata": {
  "kernelspec": {
   "display_name": "Python 3 (ipykernel)",
   "language": "python",
   "name": "python3"
  },
  "language_info": {
   "codemirror_mode": {
    "name": "ipython",
    "version": 3
   },
   "file_extension": ".py",
   "mimetype": "text/x-python",
   "name": "python",
   "nbconvert_exporter": "python",
   "pygments_lexer": "ipython3",
   "version": "3.9.7"
  }
 },
 "nbformat": 4,
 "nbformat_minor": 5
}
